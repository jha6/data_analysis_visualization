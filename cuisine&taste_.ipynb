{
  "nbformat": 4,
  "nbformat_minor": 0,
  "metadata": {
    "colab": {
      "provenance": []
    },
    "kernelspec": {
      "name": "python3",
      "display_name": "Python 3"
    },
    "language_info": {
      "name": "python"
    }
  },
  "cells": [
    {
      "cell_type": "code",
      "execution_count": null,
      "metadata": {
        "id": "6aYVRTpHvcu2"
      },
      "outputs": [],
      "source": [
        "# Import libraries\n",
        "\n",
        "import pandas as pd\n",
        "import re\n",
        "import seaborn as sns\n",
        "import matplotlib.pyplot as plt\n"
      ]
    },
    {
      "cell_type": "markdown",
      "source": [
        "Preprocessing Functions"
      ],
      "metadata": {
        "id": "_BBtwo1a7NUH"
      }
    },
    {
      "cell_type": "code",
      "source": [
        "\n",
        "\n",
        "# preprocess function\n",
        "def preprocess_str(s):\n",
        "    if isinstance(s, str):\n",
        "      #\n",
        "      return s.strip().lower()\n",
        "    return s\n",
        "\n",
        "\n",
        "\n",
        "\n",
        "# preprocess function\n",
        "def preprocess_ingredients(ingredients):\n",
        "\n",
        "  if isinstance(ingredients, str):\n",
        "  # '(' in i  ')' in i:\n",
        "  # str, substr = item.split('(')\n",
        "  # substr = substr.replace(')', '')\n",
        "  #  newstr.append(substr.strip())\n",
        "  #   newstr.extend([ing.strip() for ing in str.split(' ')])\n",
        "\n",
        "    # Remove\n",
        "    ingredients_clean = re.sub(r'[)]', '', ingredients)\n",
        "    ingredients_clean = re.sub(r'[(]', ', ', ingredients_clean)\n",
        "\n",
        "    ingredients_clean = ingredients_clean.split(',')\n",
        "    #print(' ', ingredients_clean)\n",
        "    substr = substr.strip().lower()\n",
        "\n",
        "\n",
        "    # sort\n",
        "    ingredients_clean = sorted(set(ingredients_clean))\n",
        "\n",
        "    # join again\n",
        "    return ', '.join(ingredients_clean)\n",
        "\n",
        "  return ingredients\n",
        "\n",
        "\n",
        "\n"
      ],
      "metadata": {
        "id": "nKRBiIP5veDf"
      },
      "execution_count": null,
      "outputs": []
    },
    {
      "cell_type": "code",
      "source": [
        "\n",
        "# Loading Cuisines to Ingredients Mapping\n",
        "\n",
        "df_cuisines_ingredients_mapping = pd.read_csv(\"Cuisines to Ingredients Mapping.csv\")\n",
        "# Check the type\n",
        "# print('dtype',df_cuisines_ingredients_mapping[\"flavour\"].dtype)\n",
        "\n",
        "\n",
        "\n"
      ],
      "metadata": {
        "id": "ozPcBm2XvwH2"
      },
      "execution_count": null,
      "outputs": []
    },
    {
      "cell_type": "code",
      "source": [
        "\n",
        "# Summary statistics\n",
        "print(df_cuisines_ingredients_mapping.info())\n",
        "\n",
        "print(df_cuisines_ingredients_mapping.describe())"
      ],
      "metadata": {
        "id": "cr9kFlPI6dPu"
      },
      "execution_count": null,
      "outputs": []
    },
    {
      "cell_type": "code",
      "source": [
        "\n",
        "# Data Cleaning\n",
        "\n",
        "# Checking missing values\n",
        "print(df.isnull().sum())\n",
        "\n",
        "# dropping missing values\n",
        "df.dropna(inplace=True)\n",
        "\n",
        "# Removing duplicates\n",
        "df.drop_duplicates(inplace=True)"
      ],
      "metadata": {
        "id": "jAFc4zWd6VnP"
      },
      "execution_count": null,
      "outputs": []
    },
    {
      "cell_type": "code",
      "source": [
        "\n",
        "# Loading Taste Profile to Ingredients Mapping\n",
        "\n",
        "df_taste_ingredients_mapping = pd.read_csv(\"Taste Profile to Ingredients Mapping.csv\")\n",
        "\n",
        "print(df_taste_ingredients_mapping.head())\n"
      ],
      "metadata": {
        "id": "gGhfPzh361Xe"
      },
      "execution_count": null,
      "outputs": []
    },
    {
      "cell_type": "code",
      "source": [
        "\n",
        "# Summary statistics\n",
        "\n",
        "print(df_taste_ingredients_mapping.info())\n",
        "\n",
        "print(df_taste_ingredients_mapping.describe())"
      ],
      "metadata": {
        "id": "NfFu8PJw66FA"
      },
      "execution_count": null,
      "outputs": []
    },
    {
      "cell_type": "code",
      "source": [],
      "metadata": {
        "id": "oRJrQWsq9W-y"
      },
      "execution_count": null,
      "outputs": []
    },
    {
      "cell_type": "markdown",
      "source": [
        "Cleaning and Preparing Data"
      ],
      "metadata": {
        "id": "cvVb7Nh98LvW"
      }
    },
    {
      "cell_type": "code",
      "source": [
        "\n",
        "# Clean cuisines to Ingredients Mapping\n",
        "\n",
        "df_cuisines_ingredients_mapping['flavour'] = df_cuisines_ingredients_mapping['flavour'].apply(preprocess_str)\n",
        "\n",
        "df_cuisines_ingredients_mapping['ingredients'] = df_cuisines_ingredients_mapping['ingredients'].apply(preprocess_ingredients)\n",
        "\n",
        "print(df_cuisines_ingredients_mapping.head())\n"
      ],
      "metadata": {
        "id": "4U9DznXA8FjF"
      },
      "execution_count": null,
      "outputs": []
    },
    {
      "cell_type": "code",
      "source": [
        "\n",
        "\n",
        "\n",
        "# Clean Taste Profile to Ingredients Mapping\n",
        "\n",
        "df_taste_ingredients_mapping['Element'] = df_taste_ingredients_mapping['Element'].apply(preprocess_str)\n",
        "df_taste_ingredients_mapping['Ingredients'] = df_taste_ingredients_mapping['Ingredients'].apply(preprocess_ingredients)\n",
        "\n",
        "print(df_taste_ingredients_mapping.head())"
      ],
      "metadata": {
        "id": "xcADgR979JNz"
      },
      "execution_count": null,
      "outputs": []
    },
    {
      "cell_type": "code",
      "source": [
        "# Loading User Inputs\n",
        "\n",
        "df_user_inputs = pd.read_csv(\"User Inputs.csv\")\n",
        "\n",
        "print(df_user_inputs.head())\n"
      ],
      "metadata": {
        "id": "OSXtlqfY8-Cj"
      },
      "execution_count": null,
      "outputs": []
    },
    {
      "cell_type": "code",
      "source": [
        "\n",
        "# Summary statistics\n",
        "\n",
        "print(df_user_inputs.info())\n",
        "\n",
        "print(df_user_inputs.describe())"
      ],
      "metadata": {
        "id": "pSPGg_yZ9gBx"
      },
      "execution_count": null,
      "outputs": []
    },
    {
      "cell_type": "code",
      "source": [
        "# # Loading restaurant menu\n",
        "df_restaurant_menu = pd.read_csv(\"Restaurant Menu Items.csv\")\n",
        "\n",
        "print(df_restaurant_menu.head())"
      ],
      "metadata": {
        "id": "IV5vxoII-Mq7"
      },
      "execution_count": null,
      "outputs": []
    },
    {
      "cell_type": "code",
      "source": [
        "# Summary statistics\n",
        "\n",
        "print(df_restaurant_menu.info())\n",
        "\n",
        "print(df_restaurant_menu.describe())"
      ],
      "metadata": {
        "id": "gC5ezVb8-bIm"
      },
      "execution_count": null,
      "outputs": []
    },
    {
      "cell_type": "code",
      "source": [
        "\n",
        "# Clean  User Inputs\n",
        "\n",
        "df_user_inputs['cuisine'] = df_user_inputs['cuisine'].apply(preprocess_str)\n",
        "\n",
        "df_user_inputs['taste_profile'] = df_user_inputs['taste_profile'].apply(preprocess_str)\n",
        "\n",
        "print(df_user_inputs.head())"
      ],
      "metadata": {
        "id": "poqQBKEL93FV"
      },
      "execution_count": null,
      "outputs": []
    },
    {
      "cell_type": "code",
      "source": [
        "df_restaurant_menu['menu_item'] = df_restaurant_menu['menu_item'].apply(preprocess_str)\n",
        "\n",
        "df_restaurant_menu['ingredients'] = df_restaurant_menu['ingredients'].apply(preprocess_ingredients)\n",
        "\n",
        "print(df_restaurant_menu.head())"
      ],
      "metadata": {
        "id": "rJeVZhNG-K3y"
      },
      "execution_count": null,
      "outputs": []
    },
    {
      "cell_type": "code",
      "source": [
        "# Load Restaurant Details\n",
        "\n",
        "df_restaurant_details = pd.read_csv(\"Restaurant Details.csv\")\n"
      ],
      "metadata": {
        "id": "rqEiEkCn_Hpd"
      },
      "execution_count": null,
      "outputs": []
    },
    {
      "cell_type": "code",
      "source": [
        "# Summary statistics\n",
        "\n",
        "print(df_restaurant_details.info())\n",
        "\n",
        "print(df_restaurant_details.describe())"
      ],
      "metadata": {
        "id": "tHXDPLFx_xha"
      },
      "execution_count": null,
      "outputs": []
    },
    {
      "cell_type": "code",
      "source": [
        "# Clean Restaurant Details\n",
        "df_restaurant_details['restaurant_id'] = df_restaurant_details['restaurant_id'].apply(preprocess_str)\n",
        "\n",
        "# df_restaurant_details['restaurant_name'] = df_restaurant_details['restaurant_name'].apply(preprocess_str)\n",
        "print(df_restaurant_details.head())"
      ],
      "metadata": {
        "id": "gvPC4nGs_MYg"
      },
      "execution_count": null,
      "outputs": []
    },
    {
      "cell_type": "code",
      "source": [
        "#\n",
        "\n",
        "# range_k = range(1, 10)\n",
        "# for k in range_k:\n",
        "#     kmeans = KMeans(n_clusters=k, n_init=10)\n",
        "#     kmeans.fit(options)\n",
        "#     range.append(kmeans.inertia_)\n",
        "\n",
        "# # Plotting for Elbow Method to find K\n",
        "# plt.figure(figsize=(8, 5))\n",
        "# plt.plot(range_k, range, marker='o', linestyle='--')\n",
        "# plt.xlabel(\"Clusters K\")\n",
        "# plt.ylabel(\"range\")\n",
        "# plt.title(\"Elbow Method\")\n",
        "# plt.show()\n",
        "\n",
        "\n",
        "\n",
        "\n",
        "\n",
        "\n",
        "\n"
      ],
      "metadata": {
        "id": "GsmaA0-m6rxf"
      },
      "execution_count": null,
      "outputs": []
    },
    {
      "cell_type": "code",
      "source": [],
      "metadata": {
        "id": "e3ZzHskH6rkt"
      },
      "execution_count": null,
      "outputs": []
    },
    {
      "cell_type": "code",
      "source": [],
      "metadata": {
        "id": "ea6R0W-c6Vea"
      },
      "execution_count": null,
      "outputs": []
    }
  ]
}